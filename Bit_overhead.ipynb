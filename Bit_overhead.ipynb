{
  "nbformat": 4,
  "nbformat_minor": 0,
  "metadata": {
    "colab": {
      "provenance": []
    },
    "kernelspec": {
      "name": "python3",
      "display_name": "Python 3"
    },
    "language_info": {
      "name": "python"
    }
  },
  "cells": [
    {
      "cell_type": "code",
      "execution_count": 49,
      "metadata": {
        "id": "HDelqQhEHPs0"
      },
      "outputs": [],
      "source": [
        "# codebook parametres\n",
        "\n",
        "# fixed parametres\n",
        "N0 = 3\n",
        "N1 = 2\n",
        "N2 = 1\n",
        "N3 = 13 # N3 < 19\n",
        "\n",
        "O1 = 4\n",
        "O2 = 4\n",
        "O3 = 4\n",
        "\n",
        "# spatialBeamNumTRP = [2, 2, 2]\n",
        "\n",
        "# parametres for case 1\n",
        "beta = 1/4\n",
        "pl = 1/4\n",
        "\n",
        "rank = 1\n",
        "\n",
        "if rank == 1 or rank == 2:\n",
        "  pv = 1/8\n",
        "elif rank == 3 or rank == 4:\n",
        "  pv = 1/16"
      ]
    },
    {
      "cell_type": "code",
      "source": [
        "import math\n",
        "import numpy as np"
      ],
      "metadata": {
        "id": "5IsCg2Cj554R"
      },
      "execution_count": 24,
      "outputs": []
    },
    {
      "cell_type": "code",
      "source": [
        "# Объем служебной информации\n",
        "def bit_count(rank, N0, N1, N2, N3, O1, O2, O3, beta, pv) -> int:\n",
        "  M1 = math.ceil(pv * N3)\n",
        "  M2 = math.ceil(pv * N3 / 2)\n",
        "  M3 = math.ceil(pv * N3 / 3)\n",
        "  M4 = math.ceil(pv * N3 / 4)\n",
        "\n",
        "  K0 = 2 * beta * 2 * M1\n",
        "  K_NZ = math.ceil(2 * K0)\n",
        "\n",
        "  bit_count = 0\n",
        "  if rank == 1:\n",
        "    V_i11 = N0 * math.ceil(np.log2(O1 * O2))\n",
        "    V_i12 = 3 * math.ceil(np.log2(math.comb(N1 * N2, 2)))\n",
        "    V_181 = math.ceil(np.log2(K_NZ))\n",
        "    V_231 = 4\n",
        "    V_161 = math.ceil(np.log2(math.comb(N3 - 1, M1 - 1)))\n",
        "    V_24 = 3 * (K_NZ - 1)\n",
        "    V_25 = 4 * (K_NZ - 1)\n",
        "    V_17 = 2 * 3 * 2 * M1\n",
        "\n",
        "    bit_count += V_i11 + V_i12 + V_181 + V_231 + V_161 + V_24 + V_25 + V_17\n",
        "\n",
        "  elif rank == 2:\n",
        "    V_i11 = N0 * math.ceil(np.log2(O1 * O2))\n",
        "    V_i12 = 3 * math.ceil(np.log2(math.comb(N1 * N2, 2)))\n",
        "    V_181 = math.ceil(np.log2(3 * 2 * 2))\n",
        "    V_182 = math.ceil(np.log2(3 * 2 * 2))\n",
        "    V_231 = 4\n",
        "    V_232 = 4\n",
        "    V_161 = math.ceil(np.log2(math.comb(N3 - 1, M2 - 1)))\n",
        "    V_162 = math.ceil(np.log2(math.comb(N3 - 1, M2 - 1)))\n",
        "    V_24 = 3 * (K_NZ - 2)\n",
        "    V_25 = 4 * (K_NZ - 2)\n",
        "    V_17 = 4 * 3 * 2 * M2\n",
        "\n",
        "    bit_count += V_i11 + V_i12 + V_181 + V_182 + V_231 + V_232 + V_161 + V_162 + V_24 + V_25 + V_17\n",
        "\n",
        "  elif rank == 3:\n",
        "    V_i11 = N0 * math.ceil(np.log2(O1 * O2))\n",
        "    V_i12 = 3 * math.ceil(np.log2(math.comb(N1 * N2, 2)))\n",
        "    V_181 = math.ceil(np.log2(3 * 2 * 2))\n",
        "    V_182 = math.ceil(np.log2(3 * 2 * 2))\n",
        "    V_183 = math.ceil(np.log2(3 * 2 * 2))\n",
        "    V_231 = 4\n",
        "    V_232 = 4\n",
        "    V_233 = 4\n",
        "    V_161 = math.ceil(np.log2(math.comb(N3 - 1, M3 - 1)))\n",
        "    V_162 = math.ceil(np.log2(math.comb(N3 - 1, M3 - 1)))\n",
        "    V_163 = math.ceil(np.log2(math.comb(N3 - 1, M3 - 1)))\n",
        "    V_24 = 3 * (K_NZ - 3)\n",
        "    V_25 = 4 * (K_NZ - 3)\n",
        "    V_17 = 6 * 3 * 2 * M3\n",
        "\n",
        "    bit_count += V_i11 + V_i12 + V_181 + V_182 + V_183 + V_231 + V_232 + V_233 + V_161 + V_162 + V_163 + V_24 + V_25 + V_17\n",
        "\n",
        "  elif rank == 4:\n",
        "    V_i11 = N0 * math.ceil(np.log2(O1 * O2))\n",
        "    V_i12 = 3 * math.ceil(np.log2(math.comb(N1 * N2, 2)))\n",
        "    V_181 = math.ceil(np.log2(3 * 2 * 2))\n",
        "    V_182 = math.ceil(np.log2(3 * 2 * 2))\n",
        "    V_183 = math.ceil(np.log2(3 * 2 * 2))\n",
        "    V_184 = math.ceil(np.log2(3 * 2 * 2))\n",
        "    V_231 = 4\n",
        "    V_232 = 4\n",
        "    V_233 = 4\n",
        "    V_234 = 4\n",
        "    V_161 = math.ceil(np.log2(math.comb(N3 - 1, M4 - 1)))\n",
        "    V_162 = math.ceil(np.log2(math.comb(N3 - 1, M4 - 1)))\n",
        "    V_163 = math.ceil(np.log2(math.comb(N3 - 1, M4 - 1)))\n",
        "    V_164 = math.ceil(np.log2(math.comb(N3 - 1, M4 - 1)))\n",
        "    V_24 = 3 * (K_NZ - 4)\n",
        "    V_25 = 4 * (K_NZ - 4)\n",
        "    V_17 = 8 * 3 * 2 * M3\n",
        "\n",
        "    bit_count += V_i11 + V_i12 + V_181 + V_182 + V_183 + V_184 + V_231 + V_232 + V_233 + V_234 + V_161 + V_162 + V_163 + V_164 + V_24 + V_25 + V_17\n",
        "\n",
        "  else:\n",
        "    raise ValueError(\"invalid rank\")\n",
        "\n",
        "  return bit_count"
      ],
      "metadata": {
        "id": "_adcvAf-jLWN"
      },
      "execution_count": 52,
      "outputs": []
    },
    {
      "cell_type": "code",
      "source": [
        "bit_count(rank, N0, N1, N2, N3, O1, O2, O3, beta, pv)"
      ],
      "metadata": {
        "colab": {
          "base_uri": "https://localhost:8080/"
        },
        "id": "0a0hLrlQspVW",
        "outputId": "f1fb4d68-09c9-4aad-d3de-a0dd94373dee"
      },
      "execution_count": 51,
      "outputs": [
        {
          "output_type": "execute_result",
          "data": {
            "text/plain": [
              "67"
            ]
          },
          "metadata": {},
          "execution_count": 51
        }
      ]
    },
    {
      "cell_type": "code",
      "source": [
        "bit_count(rank, N0, N1, N2, N3, O1, O2, O3, beta, pv)"
      ],
      "metadata": {
        "colab": {
          "base_uri": "https://localhost:8080/"
        },
        "id": "2c4Tww027fmy",
        "outputId": "3cd74f2c-00cb-4969-b95e-b4c7310d12b6"
      },
      "execution_count": 44,
      "outputs": [
        {
          "output_type": "execute_result",
          "data": {
            "text/plain": [
              "66"
            ]
          },
          "metadata": {},
          "execution_count": 44
        }
      ]
    },
    {
      "cell_type": "code",
      "source": [
        "bit_count(rank, N0, N1, N2, N3, O1, O2, O3, beta, pv)"
      ],
      "metadata": {
        "colab": {
          "base_uri": "https://localhost:8080/"
        },
        "id": "mEGm7L1Z7ft8",
        "outputId": "81526b09-bb4b-4ce1-a622-e615f231ebc1"
      },
      "execution_count": 46,
      "outputs": [
        {
          "output_type": "execute_result",
          "data": {
            "text/plain": [
              "65"
            ]
          },
          "metadata": {},
          "execution_count": 46
        }
      ]
    },
    {
      "cell_type": "code",
      "source": [
        "bit_count(rank, N0, N1, N2, N3, O1, O2, O3, beta, pv)"
      ],
      "metadata": {
        "colab": {
          "base_uri": "https://localhost:8080/"
        },
        "id": "4RYU6Jx57f76",
        "outputId": "e3491c72-b830-472c-d36a-12033a201d0d"
      },
      "execution_count": 48,
      "outputs": [
        {
          "output_type": "execute_result",
          "data": {
            "text/plain": [
              "78"
            ]
          },
          "metadata": {},
          "execution_count": 48
        }
      ]
    }
  ]
}